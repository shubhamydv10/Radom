{
 "cells": [
  {
   "cell_type": "markdown",
   "id": "0db26eb7",
   "metadata": {},
   "source": [
    "# Given an integer array nums, move all 0's to the end of it while maintaining the relative order of the non-zero elements.\n",
    "\n",
    "# Note that you must do this in-place without making a copy of the array."
   ]
  },
  {
   "cell_type": "code",
   "execution_count": 19,
   "id": "fde51790",
   "metadata": {},
   "outputs": [],
   "source": [
    "import array as arr"
   ]
  },
  {
   "cell_type": "code",
   "execution_count": 20,
   "id": "d0bd999f",
   "metadata": {},
   "outputs": [],
   "source": [
    "def zero_at_last(arr):\n",
    "    left = 0\n",
    "    right= 0\n",
    "\n",
    "    while right < len(arr):\n",
    "        if arr[right] != 0:\n",
    "            (arr[left],arr[right])=(arr[right],arr[left])\n",
    "            left = left + 1\n",
    "        right = right + 1\n",
    "\n",
    "    return arr\n",
    "\n"
   ]
  },
  {
   "cell_type": "code",
   "execution_count": 23,
   "id": "292086f3",
   "metadata": {},
   "outputs": [
    {
     "data": {
      "text/plain": [
       "[1, 3, 12, 0, 0]"
      ]
     },
     "execution_count": 23,
     "metadata": {},
     "output_type": "execute_result"
    }
   ],
   "source": [
    "zero_at_last([0,1,0,3,12])"
   ]
  },
  {
   "cell_type": "code",
   "execution_count": null,
   "id": "d43be123",
   "metadata": {},
   "outputs": [],
   "source": []
  },
  {
   "cell_type": "code",
   "execution_count": null,
   "id": "9ca70407",
   "metadata": {},
   "outputs": [],
   "source": []
  },
  {
   "cell_type": "markdown",
   "id": "497d9d72",
   "metadata": {},
   "source": [
    "# First Unique Character in a String\n",
    "\n",
    "# Given a string s, find the first non-repeating character in it and return its index. If it does not exist, return -1."
   ]
  },
  {
   "cell_type": "code",
   "execution_count": null,
   "id": "a711b116",
   "metadata": {},
   "outputs": [],
   "source": [
    "# no able to do it."
   ]
  },
  {
   "cell_type": "code",
   "execution_count": null,
   "id": "db12924f",
   "metadata": {},
   "outputs": [],
   "source": []
  },
  {
   "cell_type": "code",
   "execution_count": null,
   "id": "547aaf33",
   "metadata": {},
   "outputs": [],
   "source": []
  }
 ],
 "metadata": {
  "kernelspec": {
   "display_name": "Python 3 (ipykernel)",
   "language": "python",
   "name": "python3"
  },
  "language_info": {
   "codemirror_mode": {
    "name": "ipython",
    "version": 3
   },
   "file_extension": ".py",
   "mimetype": "text/x-python",
   "name": "python",
   "nbconvert_exporter": "python",
   "pygments_lexer": "ipython3",
   "version": "3.9.13"
  }
 },
 "nbformat": 4,
 "nbformat_minor": 5
}
